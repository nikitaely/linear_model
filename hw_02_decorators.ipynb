{
  "nbformat": 4,
  "nbformat_minor": 0,
  "metadata": {
    "colab": {
      "provenance": []
    },
    "kernelspec": {
      "name": "python3",
      "display_name": "Python 3"
    },
    "language_info": {
      "name": "python"
    }
  },
  "cells": [
    {
      "cell_type": "markdown",
      "source": [
        "# Домашнее задание: декораторы"
      ],
      "metadata": {
        "id": "QY4qPJPpgyIS"
      }
    },
    {
      "cell_type": "markdown",
      "source": [
        "## Импорт библиотек, установка констант"
      ],
      "metadata": {
        "id": "Chacc6YchldZ"
      }
    },
    {
      "cell_type": "code",
      "source": [
        "import requests\n",
        "import time\n",
        "import re\n",
        "\n",
        "from random import randint"
      ],
      "metadata": {
        "id": "w8iKrWvwhrFd"
      },
      "execution_count": 1,
      "outputs": []
    },
    {
      "cell_type": "code",
      "source": [
        "BOOK_PATH = 'https://www.gutenberg.org/files/2638/2638-0.txt'"
      ],
      "metadata": {
        "id": "-LRkS0fSi8Np"
      },
      "execution_count": 2,
      "outputs": []
    },
    {
      "cell_type": "markdown",
      "source": [
        "## Задание 1"
      ],
      "metadata": {
        "id": "kARfL8ifg4MH"
      }
    },
    {
      "cell_type": "code",
      "execution_count": 26,
      "metadata": {
        "id": "hNHNWPhngrUl"
      },
      "outputs": [],
      "source": [
        "def benchmark(func):\n",
        "    \"\"\"\n",
        "    Декоратор, выводящий время, которое заняло выполнение декорируемой функции\n",
        "    \"\"\"\n",
        "\n",
        "    def wrapper(*args, **kwargs):\n",
        "        start = time.time()\n",
        "        result = func(*args, **kwargs)\n",
        "        print(time.time() - start)\n",
        "        return result\n",
        "    return wrapper"
      ]
    },
    {
      "cell_type": "markdown",
      "source": [
        "## Задание 2"
      ],
      "metadata": {
        "id": "tGlbUKjihL5n"
      }
    },
    {
      "cell_type": "code",
      "source": [
        "def logging(func):\n",
        "    \"\"\"\n",
        "    Декоратор, который выводит параметры с которыми была вызвана функция\n",
        "    \"\"\"\n",
        "\n",
        "    def wrapper(*args, **kwargs):\n",
        "        result = func(*args, **kwargs)\n",
        "        print(args, kwargs)\n",
        "        return result\n",
        "\n",
        "    return wrapper"
      ],
      "metadata": {
        "id": "wugOZDLqhNe-"
      },
      "execution_count": 30,
      "outputs": []
    },
    {
      "cell_type": "markdown",
      "source": [
        "## Задание 3"
      ],
      "metadata": {
        "id": "Sq1tv5fshTfv"
      }
    },
    {
      "cell_type": "code",
      "source": [
        "def counter(func):\n",
        "    \"\"\"\n",
        "    Декоратор, считающий и выводящий количество вызовов декорируемой функции\n",
        "    \"\"\"\n",
        "\n",
        "    def wrapper(*args, **kwargs):\n",
        "        wrapper.num += 1\n",
        "        print(f'{wrapper.num}')\n",
        "        result = func(*args, **kwargs)\n",
        "        return result\n",
        "    wrapper.num = 0\n",
        "    return wrapper"
      ],
      "metadata": {
        "id": "9nyvuxXkhVeb"
      },
      "execution_count": 31,
      "outputs": []
    },
    {
      "cell_type": "markdown",
      "source": [
        "## Задание 4"
      ],
      "metadata": {
        "id": "uHn8Adfshz5q"
      }
    },
    {
      "cell_type": "code",
      "source": [
        "def memo(func):\n",
        "  \"\"\"\n",
        "  Декоратор, запоминающий результаты исполнения функции func, чьи аргументы args должны быть хешируемыми\n",
        "  \"\"\"\n",
        "  cache = {}\n",
        "\n",
        "  def fmemo(*args):\n",
        "    cache[args] = func(*args)\n",
        "    return cache[args]\n",
        "\n",
        "  fmemo.cache = cache\n",
        "  return fmemo"
      ],
      "metadata": {
        "id": "R7uu6WtGifNX"
      },
      "execution_count": 32,
      "outputs": []
    },
    {
      "cell_type": "markdown",
      "source": [
        "## Тестирование"
      ],
      "metadata": {
        "id": "Zn5UQCa_izxo"
      }
    },
    {
      "cell_type": "code",
      "source": [
        "@counter\n",
        "@logging\n",
        "@benchmark\n",
        "def word_count(word, url=BOOK_PATH):\n",
        "    \"\"\"\n",
        "    Функция для посчета указанного слова на html-странице\n",
        "    \"\"\"\n",
        "\n",
        "    # отправляем запрос в библиотеку Gutenberg и забираем текст\n",
        "    raw = requests.get(url).text\n",
        "\n",
        "    # заменяем в тексте все небуквенные символы на пробелы\n",
        "    processed_book = re.sub('[\\W]+' , ' ', raw).lower()\n",
        "\n",
        "    # считаем\n",
        "    cnt = len(re.findall(word.lower(), processed_book))\n",
        "\n",
        "    return f\"Cлово {word} встречается {cnt} раз\"\n",
        "\n",
        "print(word_count('whole'))"
      ],
      "metadata": {
        "id": "CHCJ64I8i2QB",
        "colab": {
          "base_uri": "https://localhost:8080/"
        },
        "outputId": "727215ca-1adc-4128-f27f-8095a41da34f"
      },
      "execution_count": 33,
      "outputs": [
        {
          "output_type": "stream",
          "name": "stdout",
          "text": [
            "1\n",
            "0.5505871772766113\n",
            "('whole',) {}\n",
            "Cлово whole встречается 176 раз\n"
          ]
        }
      ]
    },
    {
      "cell_type": "code",
      "source": [
        "@benchmark\n",
        "def fib(n):\n",
        "    if n < 2:\n",
        "        return n\n",
        "    return fib(n-2) + fib(n-1)"
      ],
      "metadata": {
        "id": "ZE4Rfn-hh3k3"
      },
      "execution_count": 34,
      "outputs": []
    },
    {
      "cell_type": "code",
      "source": [
        "# измеряем время выполнения\n",
        "fib(4)"
      ],
      "metadata": {
        "id": "Io94NyjiiXG4",
        "colab": {
          "base_uri": "https://localhost:8080/"
        },
        "outputId": "25fe17d2-c79c-4d66-eda8-0f9d844b0638"
      },
      "execution_count": 41,
      "outputs": [
        {
          "output_type": "stream",
          "name": "stdout",
          "text": [
            "4.0531158447265625e-06\n",
            "3.814697265625e-06\n",
            "0.0010609626770019531\n",
            "7.152557373046875e-07\n",
            "2.1457672119140625e-06\n",
            "7.152557373046875e-07\n",
            "3.5762786865234375e-05\n",
            "6.842613220214844e-05\n",
            "0.001165151596069336\n"
          ]
        },
        {
          "output_type": "execute_result",
          "data": {
            "text/plain": [
              "3"
            ]
          },
          "metadata": {},
          "execution_count": 41
        }
      ]
    },
    {
      "cell_type": "code",
      "source": [
        "@benchmark\n",
        "@memo\n",
        "def fib(n):\n",
        "    if n < 2:\n",
        "        return n\n",
        "    return fib(n-2) + fib(n-1)"
      ],
      "metadata": {
        "id": "W9B3e-t9iTUj"
      },
      "execution_count": 37,
      "outputs": []
    },
    {
      "cell_type": "code",
      "source": [
        "# измеряем время выполнения\n",
        "fib(4)"
      ],
      "metadata": {
        "id": "Sk6_4KQaidkh",
        "colab": {
          "base_uri": "https://localhost:8080/"
        },
        "outputId": "f81fa68c-273f-4943-ab8a-09d5b4a784f8"
      },
      "execution_count": 42,
      "outputs": [
        {
          "output_type": "stream",
          "name": "stdout",
          "text": [
            "3.0994415283203125e-06\n",
            "5.0067901611328125e-06\n",
            "0.0005381107330322266\n",
            "1.430511474609375e-06\n",
            "3.0994415283203125e-06\n",
            "1.430511474609375e-06\n",
            "5.435943603515625e-05\n",
            "0.00010824203491210938\n",
            "0.0007009506225585938\n"
          ]
        },
        {
          "output_type": "execute_result",
          "data": {
            "text/plain": [
              "3"
            ]
          },
          "metadata": {},
          "execution_count": 42
        }
      ]
    }
  ]
}